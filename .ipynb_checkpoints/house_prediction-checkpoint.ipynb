{
 "cells": [
  {
   "cell_type": "code",
   "execution_count": 1,
   "id": "605f8707-6934-46b9-84c8-e4acafdc2eb3",
   "metadata": {
    "tags": []
   },
   "outputs": [],
   "source": [
    "import numpy as np\n",
    "import pandas as pd\n",
    "pd.set_option('display.max_columns', None)"
   ]
  },
  {
   "cell_type": "code",
   "execution_count": 2,
   "id": "ea71005c-7fad-4f55-9360-508666239d72",
   "metadata": {
    "tags": []
   },
   "outputs": [
    {
     "data": {
      "text/html": [
       "<div>\n",
       "<style scoped>\n",
       "    .dataframe tbody tr th:only-of-type {\n",
       "        vertical-align: middle;\n",
       "    }\n",
       "\n",
       "    .dataframe tbody tr th {\n",
       "        vertical-align: top;\n",
       "    }\n",
       "\n",
       "    .dataframe thead th {\n",
       "        text-align: right;\n",
       "    }\n",
       "</style>\n",
       "<table border=\"1\" class=\"dataframe\">\n",
       "  <thead>\n",
       "    <tr style=\"text-align: right;\">\n",
       "      <th></th>\n",
       "      <th>longitude</th>\n",
       "      <th>latitude</th>\n",
       "      <th>housing_median_age</th>\n",
       "      <th>total_rooms</th>\n",
       "      <th>total_bedrooms</th>\n",
       "      <th>population</th>\n",
       "      <th>households</th>\n",
       "      <th>median_income</th>\n",
       "      <th>median_house_value</th>\n",
       "      <th>ocean_proximity</th>\n",
       "    </tr>\n",
       "  </thead>\n",
       "  <tbody>\n",
       "    <tr>\n",
       "      <th>0</th>\n",
       "      <td>-122.23</td>\n",
       "      <td>37.88</td>\n",
       "      <td>41.0</td>\n",
       "      <td>880.0</td>\n",
       "      <td>129.0</td>\n",
       "      <td>322.0</td>\n",
       "      <td>126.0</td>\n",
       "      <td>8.3252</td>\n",
       "      <td>452600.0</td>\n",
       "      <td>NEAR BAY</td>\n",
       "    </tr>\n",
       "    <tr>\n",
       "      <th>1</th>\n",
       "      <td>-122.22</td>\n",
       "      <td>37.86</td>\n",
       "      <td>21.0</td>\n",
       "      <td>7099.0</td>\n",
       "      <td>1106.0</td>\n",
       "      <td>2401.0</td>\n",
       "      <td>1138.0</td>\n",
       "      <td>8.3014</td>\n",
       "      <td>358500.0</td>\n",
       "      <td>NEAR BAY</td>\n",
       "    </tr>\n",
       "    <tr>\n",
       "      <th>2</th>\n",
       "      <td>-122.24</td>\n",
       "      <td>37.85</td>\n",
       "      <td>52.0</td>\n",
       "      <td>1467.0</td>\n",
       "      <td>190.0</td>\n",
       "      <td>496.0</td>\n",
       "      <td>177.0</td>\n",
       "      <td>7.2574</td>\n",
       "      <td>352100.0</td>\n",
       "      <td>NEAR BAY</td>\n",
       "    </tr>\n",
       "    <tr>\n",
       "      <th>3</th>\n",
       "      <td>-122.25</td>\n",
       "      <td>37.85</td>\n",
       "      <td>52.0</td>\n",
       "      <td>1274.0</td>\n",
       "      <td>235.0</td>\n",
       "      <td>558.0</td>\n",
       "      <td>219.0</td>\n",
       "      <td>5.6431</td>\n",
       "      <td>341300.0</td>\n",
       "      <td>NEAR BAY</td>\n",
       "    </tr>\n",
       "    <tr>\n",
       "      <th>4</th>\n",
       "      <td>-122.25</td>\n",
       "      <td>37.85</td>\n",
       "      <td>52.0</td>\n",
       "      <td>1627.0</td>\n",
       "      <td>280.0</td>\n",
       "      <td>565.0</td>\n",
       "      <td>259.0</td>\n",
       "      <td>3.8462</td>\n",
       "      <td>342200.0</td>\n",
       "      <td>NEAR BAY</td>\n",
       "    </tr>\n",
       "  </tbody>\n",
       "</table>\n",
       "</div>"
      ],
      "text/plain": [
       "   longitude  latitude  housing_median_age  total_rooms  total_bedrooms  \\\n",
       "0    -122.23     37.88                41.0        880.0           129.0   \n",
       "1    -122.22     37.86                21.0       7099.0          1106.0   \n",
       "2    -122.24     37.85                52.0       1467.0           190.0   \n",
       "3    -122.25     37.85                52.0       1274.0           235.0   \n",
       "4    -122.25     37.85                52.0       1627.0           280.0   \n",
       "\n",
       "   population  households  median_income  median_house_value ocean_proximity  \n",
       "0       322.0       126.0         8.3252            452600.0        NEAR BAY  \n",
       "1      2401.0      1138.0         8.3014            358500.0        NEAR BAY  \n",
       "2       496.0       177.0         7.2574            352100.0        NEAR BAY  \n",
       "3       558.0       219.0         5.6431            341300.0        NEAR BAY  \n",
       "4       565.0       259.0         3.8462            342200.0        NEAR BAY  "
      ]
     },
     "execution_count": 2,
     "metadata": {},
     "output_type": "execute_result"
    }
   ],
   "source": [
    "data = pd.read_csv('housing.csv')\n",
    "data.head()"
   ]
  },
  {
   "cell_type": "markdown",
   "id": "71750f99-bd67-4909-9858-1074c6c9085a",
   "metadata": {},
   "source": [
    "let's see the data whether or not there is missing data"
   ]
  },
  {
   "cell_type": "code",
   "execution_count": 3,
   "id": "04861d51-58b6-4629-8962-caa307daca00",
   "metadata": {
    "tags": []
   },
   "outputs": [
    {
     "data": {
      "text/plain": [
       "longitude               0\n",
       "latitude                0\n",
       "housing_median_age      0\n",
       "total_rooms             0\n",
       "total_bedrooms        207\n",
       "population              0\n",
       "households              0\n",
       "median_income           0\n",
       "median_house_value      0\n",
       "ocean_proximity         0\n",
       "dtype: int64"
      ]
     },
     "execution_count": 3,
     "metadata": {},
     "output_type": "execute_result"
    }
   ],
   "source": [
    "data.isnull().sum()"
   ]
  },
  {
   "cell_type": "code",
   "execution_count": 4,
   "id": "cd76e612-741f-4f78-a1ce-888e9d10cd8a",
   "metadata": {
    "tags": []
   },
   "outputs": [
    {
     "name": "stdout",
     "output_type": "stream",
     "text": [
      "missing data total bedroom is 0.01002906976744186\n"
     ]
    }
   ],
   "source": [
    "print('missing data total bedroom is', (data['total_bedrooms'].isnull().sum()/len(data)))"
   ]
  },
  {
   "cell_type": "markdown",
   "id": "bda5f91c-aaf3-4c6c-89e0-d83e0915e4a1",
   "metadata": {},
   "source": [
    "because the missing data from total bedrooms is 1%, so it's okay to dropna the missing value"
   ]
  },
  {
   "cell_type": "code",
   "execution_count": 5,
   "id": "a1b42967-5bd0-499e-9709-b789dec0aa96",
   "metadata": {
    "tags": []
   },
   "outputs": [],
   "source": [
    "data.dropna(inplace=True)"
   ]
  },
  {
   "cell_type": "code",
   "execution_count": 6,
   "id": "ccc826ce-e0bb-435c-9039-d83a8f2bd547",
   "metadata": {
    "tags": []
   },
   "outputs": [
    {
     "data": {
      "text/plain": [
       "longitude             0\n",
       "latitude              0\n",
       "housing_median_age    0\n",
       "total_rooms           0\n",
       "total_bedrooms        0\n",
       "population            0\n",
       "households            0\n",
       "median_income         0\n",
       "median_house_value    0\n",
       "ocean_proximity       0\n",
       "dtype: int64"
      ]
     },
     "execution_count": 6,
     "metadata": {},
     "output_type": "execute_result"
    }
   ],
   "source": [
    "data.isnull().sum()"
   ]
  },
  {
   "cell_type": "markdown",
   "id": "370f5761-2990-4eb1-834c-3c186e0886d1",
   "metadata": {},
   "source": [
    "i notice that ocean_proximity does not contain number. let's check if it's categorical or not."
   ]
  },
  {
   "cell_type": "code",
   "execution_count": 7,
   "id": "0971d9b0-1be3-4c58-92b0-f66631f15122",
   "metadata": {
    "tags": []
   },
   "outputs": [
    {
     "data": {
      "text/plain": [
       "<1H OCEAN     9034\n",
       "INLAND        6496\n",
       "NEAR OCEAN    2628\n",
       "NEAR BAY      2270\n",
       "ISLAND           5\n",
       "Name: ocean_proximity, dtype: int64"
      ]
     },
     "execution_count": 7,
     "metadata": {},
     "output_type": "execute_result"
    }
   ],
   "source": [
    "data['ocean_proximity'].value_counts()"
   ]
  },
  {
   "cell_type": "markdown",
   "id": "4063e3aa-687c-4eeb-a8cf-2b8d72574f32",
   "metadata": {},
   "source": [
    "there are five category in ocean_proximity. i'm gonna change it into binary value"
   ]
  },
  {
   "cell_type": "code",
   "execution_count": 8,
   "id": "f8b9d125-de32-4b25-9064-65c1d2696892",
   "metadata": {
    "tags": []
   },
   "outputs": [
    {
     "data": {
      "text/html": [
       "<div>\n",
       "<style scoped>\n",
       "    .dataframe tbody tr th:only-of-type {\n",
       "        vertical-align: middle;\n",
       "    }\n",
       "\n",
       "    .dataframe tbody tr th {\n",
       "        vertical-align: top;\n",
       "    }\n",
       "\n",
       "    .dataframe thead th {\n",
       "        text-align: right;\n",
       "    }\n",
       "</style>\n",
       "<table border=\"1\" class=\"dataframe\">\n",
       "  <thead>\n",
       "    <tr style=\"text-align: right;\">\n",
       "      <th></th>\n",
       "      <th>longitude</th>\n",
       "      <th>latitude</th>\n",
       "      <th>housing_median_age</th>\n",
       "      <th>total_rooms</th>\n",
       "      <th>total_bedrooms</th>\n",
       "      <th>population</th>\n",
       "      <th>households</th>\n",
       "      <th>median_income</th>\n",
       "      <th>median_house_value</th>\n",
       "      <th>ocean_proximity_INLAND</th>\n",
       "      <th>ocean_proximity_ISLAND</th>\n",
       "      <th>ocean_proximity_NEAR BAY</th>\n",
       "      <th>ocean_proximity_NEAR OCEAN</th>\n",
       "    </tr>\n",
       "  </thead>\n",
       "  <tbody>\n",
       "    <tr>\n",
       "      <th>0</th>\n",
       "      <td>-122.23</td>\n",
       "      <td>37.88</td>\n",
       "      <td>41.0</td>\n",
       "      <td>880.0</td>\n",
       "      <td>129.0</td>\n",
       "      <td>322.0</td>\n",
       "      <td>126.0</td>\n",
       "      <td>8.3252</td>\n",
       "      <td>452600.0</td>\n",
       "      <td>0</td>\n",
       "      <td>0</td>\n",
       "      <td>1</td>\n",
       "      <td>0</td>\n",
       "    </tr>\n",
       "    <tr>\n",
       "      <th>1</th>\n",
       "      <td>-122.22</td>\n",
       "      <td>37.86</td>\n",
       "      <td>21.0</td>\n",
       "      <td>7099.0</td>\n",
       "      <td>1106.0</td>\n",
       "      <td>2401.0</td>\n",
       "      <td>1138.0</td>\n",
       "      <td>8.3014</td>\n",
       "      <td>358500.0</td>\n",
       "      <td>0</td>\n",
       "      <td>0</td>\n",
       "      <td>1</td>\n",
       "      <td>0</td>\n",
       "    </tr>\n",
       "    <tr>\n",
       "      <th>2</th>\n",
       "      <td>-122.24</td>\n",
       "      <td>37.85</td>\n",
       "      <td>52.0</td>\n",
       "      <td>1467.0</td>\n",
       "      <td>190.0</td>\n",
       "      <td>496.0</td>\n",
       "      <td>177.0</td>\n",
       "      <td>7.2574</td>\n",
       "      <td>352100.0</td>\n",
       "      <td>0</td>\n",
       "      <td>0</td>\n",
       "      <td>1</td>\n",
       "      <td>0</td>\n",
       "    </tr>\n",
       "    <tr>\n",
       "      <th>3</th>\n",
       "      <td>-122.25</td>\n",
       "      <td>37.85</td>\n",
       "      <td>52.0</td>\n",
       "      <td>1274.0</td>\n",
       "      <td>235.0</td>\n",
       "      <td>558.0</td>\n",
       "      <td>219.0</td>\n",
       "      <td>5.6431</td>\n",
       "      <td>341300.0</td>\n",
       "      <td>0</td>\n",
       "      <td>0</td>\n",
       "      <td>1</td>\n",
       "      <td>0</td>\n",
       "    </tr>\n",
       "    <tr>\n",
       "      <th>4</th>\n",
       "      <td>-122.25</td>\n",
       "      <td>37.85</td>\n",
       "      <td>52.0</td>\n",
       "      <td>1627.0</td>\n",
       "      <td>280.0</td>\n",
       "      <td>565.0</td>\n",
       "      <td>259.0</td>\n",
       "      <td>3.8462</td>\n",
       "      <td>342200.0</td>\n",
       "      <td>0</td>\n",
       "      <td>0</td>\n",
       "      <td>1</td>\n",
       "      <td>0</td>\n",
       "    </tr>\n",
       "  </tbody>\n",
       "</table>\n",
       "</div>"
      ],
      "text/plain": [
       "   longitude  latitude  housing_median_age  total_rooms  total_bedrooms  \\\n",
       "0    -122.23     37.88                41.0        880.0           129.0   \n",
       "1    -122.22     37.86                21.0       7099.0          1106.0   \n",
       "2    -122.24     37.85                52.0       1467.0           190.0   \n",
       "3    -122.25     37.85                52.0       1274.0           235.0   \n",
       "4    -122.25     37.85                52.0       1627.0           280.0   \n",
       "\n",
       "   population  households  median_income  median_house_value  \\\n",
       "0       322.0       126.0         8.3252            452600.0   \n",
       "1      2401.0      1138.0         8.3014            358500.0   \n",
       "2       496.0       177.0         7.2574            352100.0   \n",
       "3       558.0       219.0         5.6431            341300.0   \n",
       "4       565.0       259.0         3.8462            342200.0   \n",
       "\n",
       "   ocean_proximity_INLAND  ocean_proximity_ISLAND  ocean_proximity_NEAR BAY  \\\n",
       "0                       0                       0                         1   \n",
       "1                       0                       0                         1   \n",
       "2                       0                       0                         1   \n",
       "3                       0                       0                         1   \n",
       "4                       0                       0                         1   \n",
       "\n",
       "   ocean_proximity_NEAR OCEAN  \n",
       "0                           0  \n",
       "1                           0  \n",
       "2                           0  \n",
       "3                           0  \n",
       "4                           0  "
      ]
     },
     "execution_count": 8,
     "metadata": {},
     "output_type": "execute_result"
    }
   ],
   "source": [
    "data = pd.get_dummies(data=data, drop_first=True)\n",
    "data.head()"
   ]
  },
  {
   "cell_type": "markdown",
   "id": "f7d775a9-3120-49d4-9f07-03aeff6fc8c4",
   "metadata": {},
   "source": [
    "i am going to seperate between input and target. after that, i'll split into train and test data."
   ]
  },
  {
   "cell_type": "code",
   "execution_count": 9,
   "id": "40f76b02-1436-41b9-a790-d42a69a21e87",
   "metadata": {
    "tags": []
   },
   "outputs": [],
   "source": [
    "x = data.drop('median_house_value', axis=1)\n",
    "y = data.median_house_value"
   ]
  },
  {
   "cell_type": "code",
   "execution_count": 10,
   "id": "718e5b03-cb72-4429-9301-0471c81f3ec9",
   "metadata": {
    "tags": []
   },
   "outputs": [],
   "source": [
    "from sklearn.model_selection import train_test_split\n",
    "x_train, x_test, y_train, y_test = train_test_split(x, y, train_size=0.8, random_state=42)"
   ]
  },
  {
   "cell_type": "markdown",
   "id": "883d9e76-25e8-45fc-9f29-00c909b9fc07",
   "metadata": {},
   "source": [
    "i guess that's good enough to go. because the range between values is far, let's scale the value."
   ]
  },
  {
   "cell_type": "code",
   "execution_count": 11,
   "id": "4343e997-302a-4214-b358-71880254607c",
   "metadata": {
    "tags": []
   },
   "outputs": [],
   "source": [
    "from sklearn.preprocessing import MinMaxScaler\n",
    "scaler = MinMaxScaler()"
   ]
  },
  {
   "cell_type": "code",
   "execution_count": 12,
   "id": "7e0658bc-5487-42c3-886f-754ecbb4e010",
   "metadata": {
    "tags": []
   },
   "outputs": [],
   "source": [
    "x_train = scaler.fit_transform(x_train)\n",
    "x_test = scaler.transform(x_test)"
   ]
  },
  {
   "cell_type": "markdown",
   "id": "b160f16c-b25c-4ae2-bdf0-082ed4c8051b",
   "metadata": {},
   "source": [
    "now we are good to go. let's import tensorlfow"
   ]
  },
  {
   "cell_type": "code",
   "execution_count": 18,
   "id": "68aeef44-83e4-4a69-b8ce-1b294403eefb",
   "metadata": {
    "tags": []
   },
   "outputs": [],
   "source": [
    "import tensorflow as tf\n",
    "from tensorflow.keras.models import Sequential\n",
    "from tensorflow.keras.layers import Dense, Dropout\n",
    "from tensorflow.keras.callbacks import EarlyStopping "
   ]
  },
  {
   "cell_type": "code",
   "execution_count": 16,
   "id": "7665c229-cf82-4efb-bde7-d8d704bba422",
   "metadata": {
    "tags": []
   },
   "outputs": [],
   "source": [
    "model = Sequential()\n",
    "model.add(Dense(1000, activation='relu'))\n",
    "model.add(Dense(500, activation='relu'))\n",
    "model.add(Dense(250, activation='relu'))\n",
    "model.add(Dense(1, activation='linear'))\n",
    "model.compile(optimizer='adam', loss='mse')"
   ]
  },
  {
   "cell_type": "code",
   "execution_count": 17,
   "id": "b0e96cee-bb51-4a4a-86cc-1e12fdf4f14a",
   "metadata": {
    "tags": []
   },
   "outputs": [
    {
     "name": "stdout",
     "output_type": "stream",
     "text": [
      "Epoch 1/100\n",
      "128/128 [==============================] - 5s 23ms/step - loss: 43995348992.0000 - val_loss: 14159290368.0000\n",
      "Epoch 2/100\n",
      "128/128 [==============================] - 3s 22ms/step - loss: 11580815360.0000 - val_loss: 10204535808.0000\n",
      "Epoch 3/100\n",
      "128/128 [==============================] - 3s 22ms/step - loss: 8965554176.0000 - val_loss: 8105448448.0000\n",
      "Epoch 4/100\n",
      "128/128 [==============================] - 3s 22ms/step - loss: 7357637120.0000 - val_loss: 6824999424.0000\n",
      "Epoch 5/100\n",
      "128/128 [==============================] - 3s 22ms/step - loss: 6258554368.0000 - val_loss: 5977565184.0000\n",
      "Epoch 6/100\n",
      "128/128 [==============================] - 3s 22ms/step - loss: 5595683328.0000 - val_loss: 5534445056.0000\n",
      "Epoch 7/100\n",
      "128/128 [==============================] - 3s 22ms/step - loss: 5293911040.0000 - val_loss: 5391814144.0000\n",
      "Epoch 8/100\n",
      "128/128 [==============================] - 3s 25ms/step - loss: 5177282560.0000 - val_loss: 5270075904.0000\n",
      "Epoch 9/100\n",
      "128/128 [==============================] - 3s 26ms/step - loss: 5109759488.0000 - val_loss: 5222057984.0000\n",
      "Epoch 10/100\n",
      "128/128 [==============================] - 3s 25ms/step - loss: 5066503168.0000 - val_loss: 5172747264.0000\n",
      "Epoch 11/100\n",
      "128/128 [==============================] - 3s 25ms/step - loss: 5028510720.0000 - val_loss: 5169006592.0000\n",
      "Epoch 12/100\n",
      "128/128 [==============================] - 3s 25ms/step - loss: 4980044800.0000 - val_loss: 5092650496.0000\n",
      "Epoch 13/100\n",
      "128/128 [==============================] - 3s 26ms/step - loss: 4948828672.0000 - val_loss: 5069830656.0000\n",
      "Epoch 14/100\n",
      "128/128 [==============================] - 3s 26ms/step - loss: 4916114944.0000 - val_loss: 5031921152.0000\n",
      "Epoch 15/100\n",
      "128/128 [==============================] - 3s 24ms/step - loss: 4880999936.0000 - val_loss: 5001100800.0000\n",
      "Epoch 16/100\n",
      "128/128 [==============================] - 3s 24ms/step - loss: 4851956736.0000 - val_loss: 4956188672.0000\n",
      "Epoch 17/100\n",
      "128/128 [==============================] - 3s 24ms/step - loss: 4823807488.0000 - val_loss: 4919245312.0000\n",
      "Epoch 18/100\n",
      "128/128 [==============================] - 3s 24ms/step - loss: 4789633536.0000 - val_loss: 4906155008.0000\n",
      "Epoch 19/100\n",
      "128/128 [==============================] - 3s 24ms/step - loss: 4754785280.0000 - val_loss: 4876035584.0000\n",
      "Epoch 20/100\n",
      "128/128 [==============================] - 3s 24ms/step - loss: 4720700416.0000 - val_loss: 4843685888.0000\n",
      "Epoch 21/100\n",
      "128/128 [==============================] - 3s 24ms/step - loss: 4693971456.0000 - val_loss: 4794011648.0000\n",
      "Epoch 22/100\n",
      "128/128 [==============================] - 3s 24ms/step - loss: 4676612096.0000 - val_loss: 4771787776.0000\n",
      "Epoch 23/100\n",
      "128/128 [==============================] - 3s 24ms/step - loss: 4638277632.0000 - val_loss: 4743047680.0000\n",
      "Epoch 24/100\n",
      "128/128 [==============================] - 3s 24ms/step - loss: 4619200000.0000 - val_loss: 4730260992.0000\n",
      "Epoch 25/100\n",
      "128/128 [==============================] - 3s 25ms/step - loss: 4605663232.0000 - val_loss: 4676192256.0000\n",
      "Epoch 26/100\n",
      "128/128 [==============================] - 3s 24ms/step - loss: 4564694016.0000 - val_loss: 4676766720.0000\n",
      "Epoch 27/100\n",
      "128/128 [==============================] - 3s 24ms/step - loss: 4544129536.0000 - val_loss: 4644134912.0000\n",
      "Epoch 28/100\n",
      "128/128 [==============================] - 3s 24ms/step - loss: 4521102336.0000 - val_loss: 4591293440.0000\n",
      "Epoch 29/100\n",
      "128/128 [==============================] - 3s 25ms/step - loss: 4492740608.0000 - val_loss: 4582565888.0000\n",
      "Epoch 30/100\n",
      "128/128 [==============================] - 3s 26ms/step - loss: 4490824192.0000 - val_loss: 4594141696.0000\n",
      "Epoch 31/100\n",
      "128/128 [==============================] - 3s 25ms/step - loss: 4461987328.0000 - val_loss: 4557228544.0000\n",
      "Epoch 32/100\n",
      "128/128 [==============================] - 3s 25ms/step - loss: 4450968064.0000 - val_loss: 4549888512.0000\n",
      "Epoch 33/100\n",
      "128/128 [==============================] - 3s 24ms/step - loss: 4432209408.0000 - val_loss: 4505016832.0000\n",
      "Epoch 34/100\n",
      "128/128 [==============================] - 3s 24ms/step - loss: 4420988928.0000 - val_loss: 4487811072.0000\n",
      "Epoch 35/100\n",
      "128/128 [==============================] - 4s 28ms/step - loss: 4411221504.0000 - val_loss: 4483547648.0000\n",
      "Epoch 36/100\n",
      "128/128 [==============================] - 3s 24ms/step - loss: 4405583872.0000 - val_loss: 4497189376.0000\n",
      "Epoch 37/100\n",
      "128/128 [==============================] - 3s 22ms/step - loss: 4381144576.0000 - val_loss: 4450174464.0000\n",
      "Epoch 38/100\n",
      "128/128 [==============================] - 3s 22ms/step - loss: 4373308416.0000 - val_loss: 4516288000.0000\n",
      "Epoch 39/100\n",
      "128/128 [==============================] - 3s 22ms/step - loss: 4355585536.0000 - val_loss: 4475367424.0000\n",
      "Epoch 40/100\n",
      "128/128 [==============================] - 3s 22ms/step - loss: 4360535040.0000 - val_loss: 4482011136.0000\n",
      "Epoch 41/100\n",
      "128/128 [==============================] - 3s 22ms/step - loss: 4359002112.0000 - val_loss: 4428795392.0000\n",
      "Epoch 42/100\n",
      "128/128 [==============================] - 3s 22ms/step - loss: 4343170048.0000 - val_loss: 4404183552.0000\n",
      "Epoch 43/100\n",
      "128/128 [==============================] - 3s 22ms/step - loss: 4330577920.0000 - val_loss: 4396107264.0000\n",
      "Epoch 44/100\n",
      "128/128 [==============================] - 3s 22ms/step - loss: 4344888320.0000 - val_loss: 4559710720.0000\n",
      "Epoch 45/100\n",
      "128/128 [==============================] - 3s 22ms/step - loss: 4325020672.0000 - val_loss: 4428286976.0000\n",
      "Epoch 46/100\n",
      "128/128 [==============================] - 3s 22ms/step - loss: 4310975488.0000 - val_loss: 4370749440.0000\n",
      "Epoch 47/100\n",
      "128/128 [==============================] - 3s 22ms/step - loss: 4305720320.0000 - val_loss: 4387937792.0000\n",
      "Epoch 48/100\n",
      "128/128 [==============================] - 3s 22ms/step - loss: 4313493504.0000 - val_loss: 4356773376.0000\n",
      "Epoch 49/100\n",
      "128/128 [==============================] - 3s 22ms/step - loss: 4300063744.0000 - val_loss: 4355658752.0000\n",
      "Epoch 50/100\n",
      "128/128 [==============================] - 3s 22ms/step - loss: 4281082112.0000 - val_loss: 4364367360.0000\n",
      "Epoch 51/100\n",
      "128/128 [==============================] - 3s 26ms/step - loss: 4288269312.0000 - val_loss: 4341820416.0000\n",
      "Epoch 52/100\n",
      "128/128 [==============================] - 3s 26ms/step - loss: 4291382016.0000 - val_loss: 4339867136.0000\n",
      "Epoch 53/100\n",
      "128/128 [==============================] - 3s 26ms/step - loss: 4279160576.0000 - val_loss: 4324017152.0000\n",
      "Epoch 54/100\n",
      "128/128 [==============================] - 3s 22ms/step - loss: 4275965952.0000 - val_loss: 4317140480.0000\n",
      "Epoch 55/100\n",
      "128/128 [==============================] - 3s 22ms/step - loss: 4259243520.0000 - val_loss: 4398791680.0000\n",
      "Epoch 56/100\n",
      "128/128 [==============================] - 3s 22ms/step - loss: 4271139328.0000 - val_loss: 4336425984.0000\n",
      "Epoch 57/100\n",
      "128/128 [==============================] - 3s 22ms/step - loss: 4261642496.0000 - val_loss: 4454747136.0000\n",
      "Epoch 58/100\n",
      "128/128 [==============================] - 3s 22ms/step - loss: 4256318720.0000 - val_loss: 4323941376.0000\n",
      "Epoch 59/100\n",
      "128/128 [==============================] - 3s 22ms/step - loss: 4234170112.0000 - val_loss: 4299705856.0000\n",
      "Epoch 60/100\n",
      "128/128 [==============================] - 3s 22ms/step - loss: 4240511232.0000 - val_loss: 4295699456.0000\n",
      "Epoch 61/100\n",
      "128/128 [==============================] - 3s 22ms/step - loss: 4228085760.0000 - val_loss: 4318146048.0000\n",
      "Epoch 62/100\n",
      "128/128 [==============================] - 3s 22ms/step - loss: 4226311936.0000 - val_loss: 4300210688.0000\n",
      "Epoch 63/100\n",
      "128/128 [==============================] - 3s 22ms/step - loss: 4224358912.0000 - val_loss: 4312213504.0000\n",
      "Epoch 64/100\n",
      "128/128 [==============================] - 3s 22ms/step - loss: 4232668160.0000 - val_loss: 4293223424.0000\n",
      "Epoch 65/100\n",
      "128/128 [==============================] - 3s 22ms/step - loss: 4221038080.0000 - val_loss: 4335833088.0000\n",
      "Epoch 66/100\n",
      "128/128 [==============================] - 3s 22ms/step - loss: 4208153600.0000 - val_loss: 4273017344.0000\n",
      "Epoch 67/100\n",
      "128/128 [==============================] - 3s 22ms/step - loss: 4216985344.0000 - val_loss: 4281396992.0000\n",
      "Epoch 68/100\n",
      "128/128 [==============================] - 3s 22ms/step - loss: 4191584512.0000 - val_loss: 4290989056.0000\n",
      "Epoch 69/100\n",
      "128/128 [==============================] - 3s 23ms/step - loss: 4192650496.0000 - val_loss: 4228035584.0000\n",
      "Epoch 70/100\n",
      "128/128 [==============================] - 3s 23ms/step - loss: 4190968320.0000 - val_loss: 4244346880.0000\n",
      "Epoch 71/100\n",
      "128/128 [==============================] - 3s 23ms/step - loss: 4173487360.0000 - val_loss: 4225775360.0000\n",
      "Epoch 72/100\n",
      "128/128 [==============================] - 3s 23ms/step - loss: 4181057280.0000 - val_loss: 4236630528.0000\n",
      "Epoch 73/100\n",
      "128/128 [==============================] - 3s 23ms/step - loss: 4175102720.0000 - val_loss: 4290887680.0000\n",
      "Epoch 74/100\n",
      "128/128 [==============================] - 3s 21ms/step - loss: 4169138688.0000 - val_loss: 4240631040.0000\n",
      "Epoch 75/100\n",
      "128/128 [==============================] - 3s 20ms/step - loss: 4154239232.0000 - val_loss: 4209811968.0000\n",
      "Epoch 76/100\n",
      "128/128 [==============================] - 3s 21ms/step - loss: 4154784256.0000 - val_loss: 4230552832.0000\n",
      "Epoch 77/100\n",
      "128/128 [==============================] - 3s 21ms/step - loss: 4169349120.0000 - val_loss: 4195827712.0000\n",
      "Epoch 78/100\n",
      "128/128 [==============================] - 3s 20ms/step - loss: 4140997888.0000 - val_loss: 4189016320.0000\n",
      "Epoch 79/100\n",
      "128/128 [==============================] - 3s 20ms/step - loss: 4170703872.0000 - val_loss: 4247491840.0000\n",
      "Epoch 80/100\n",
      "128/128 [==============================] - 3s 21ms/step - loss: 4126584832.0000 - val_loss: 4191433728.0000\n",
      "Epoch 81/100\n",
      "128/128 [==============================] - 3s 20ms/step - loss: 4126172160.0000 - val_loss: 4161262848.0000\n",
      "Epoch 82/100\n",
      "128/128 [==============================] - 3s 20ms/step - loss: 4120089600.0000 - val_loss: 4160398848.0000\n",
      "Epoch 83/100\n",
      "128/128 [==============================] - 3s 20ms/step - loss: 4114020608.0000 - val_loss: 4250202368.0000\n",
      "Epoch 84/100\n",
      "128/128 [==============================] - 3s 20ms/step - loss: 4131315200.0000 - val_loss: 4258824192.0000\n",
      "Epoch 85/100\n",
      "128/128 [==============================] - 3s 20ms/step - loss: 4110665216.0000 - val_loss: 4158519552.0000\n",
      "Epoch 86/100\n",
      "128/128 [==============================] - 3s 20ms/step - loss: 4096356864.0000 - val_loss: 4151857408.0000\n",
      "Epoch 87/100\n",
      "128/128 [==============================] - 3s 20ms/step - loss: 4097153792.0000 - val_loss: 4199528704.0000\n",
      "Epoch 88/100\n",
      "128/128 [==============================] - 3s 20ms/step - loss: 4091114496.0000 - val_loss: 4177029888.0000\n",
      "Epoch 89/100\n",
      "128/128 [==============================] - 3s 20ms/step - loss: 4094201344.0000 - val_loss: 4412925440.0000\n",
      "Epoch 90/100\n",
      "128/128 [==============================] - 3s 20ms/step - loss: 4107839232.0000 - val_loss: 4134275328.0000\n",
      "Epoch 91/100\n",
      "128/128 [==============================] - 3s 20ms/step - loss: 4084638976.0000 - val_loss: 4125480192.0000\n",
      "Epoch 92/100\n",
      "128/128 [==============================] - 3s 20ms/step - loss: 4083315968.0000 - val_loss: 4132051200.0000\n",
      "Epoch 93/100\n",
      "128/128 [==============================] - 3s 20ms/step - loss: 4065945600.0000 - val_loss: 4120435456.0000\n",
      "Epoch 94/100\n",
      "128/128 [==============================] - 3s 20ms/step - loss: 4063902720.0000 - val_loss: 4144447232.0000\n",
      "Epoch 95/100\n",
      "128/128 [==============================] - 3s 20ms/step - loss: 4063386112.0000 - val_loss: 4124679168.0000\n",
      "Epoch 96/100\n",
      "128/128 [==============================] - 3s 20ms/step - loss: 4051621120.0000 - val_loss: 4104185856.0000\n",
      "Epoch 97/100\n",
      "128/128 [==============================] - 3s 20ms/step - loss: 4059278592.0000 - val_loss: 4130775296.0000\n",
      "Epoch 98/100\n",
      "128/128 [==============================] - 3s 20ms/step - loss: 4039996160.0000 - val_loss: 4172911360.0000\n",
      "Epoch 99/100\n",
      "128/128 [==============================] - 3s 20ms/step - loss: 4048656640.0000 - val_loss: 4208756224.0000\n",
      "Epoch 100/100\n",
      "128/128 [==============================] - 3s 20ms/step - loss: 4034961408.0000 - val_loss: 4084919296.0000\n"
     ]
    },
    {
     "data": {
      "text/plain": [
       "<keras.callbacks.History at 0x26f2796ce50>"
      ]
     },
     "execution_count": 17,
     "metadata": {},
     "output_type": "execute_result"
    }
   ],
   "source": [
    "model.fit(x=x_train, y=y_train, validation_data=(x_test, y_test), epochs=100, batch_size=128)"
   ]
  },
  {
   "cell_type": "code",
   "execution_count": 19,
   "id": "231ff25a-471d-4341-acd2-94c17ae282cc",
   "metadata": {
    "tags": []
   },
   "outputs": [
    {
     "data": {
      "text/plain": [
       "<Axes: >"
      ]
     },
     "execution_count": 19,
     "metadata": {},
     "output_type": "execute_result"
    },
    {
     "data": {
      "image/png": "[encoded data removed]",
      "text/plain": [
       "<Figure size 640x480 with 1 Axes>"
      ]
     },
     "metadata": {},
     "output_type": "display_data"
    }
   ],
   "source": [
    "loss = pd.DataFrame(model.history.history)\n",
    "loss.plot()"
   ]
  },
  {
   "cell_type": "code",
   "execution_count": 20,
   "id": "ee746cee-3aa0-4246-a81e-98a751da35e4",
   "metadata": {
    "tags": []
   },
   "outputs": [
    {
     "name": "stdout",
     "output_type": "stream",
     "text": [
      "128/128 [==============================] - 1s 4ms/step\n"
     ]
    }
   ],
   "source": [
    "prediction = model.predict(x_test)"
   ]
  },
  {
   "cell_type": "code",
   "execution_count": 21,
   "id": "7dda6993-63f2-4f55-a7fd-997f27ac6126",
   "metadata": {
    "tags": []
   },
   "outputs": [],
   "source": [
    "from sklearn.metrics import r2_score, mean_absolute_error, mean_squared_error"
   ]
  },
  {
   "cell_type": "code",
   "execution_count": 31,
   "id": "5e45b4d8-8465-4334-bfe6-720806018f94",
   "metadata": {
    "tags": []
   },
   "outputs": [
    {
     "name": "stdout",
     "output_type": "stream",
     "text": [
      "r2 is 0.701\n",
      "MAE is 44789.818\n",
      "RMSE is 63913.371\n"
     ]
    }
   ],
   "source": [
    "print('r2 is', round(r2_score(y_true=y_test, y_pred=prediction),3))\n",
    "print('MAE is', round(mean_absolute_error(y_true=y_test, y_pred=prediction),3))\n",
    "print('RMSE is', round(mean_squared_error(y_true=y_test, y_pred=prediction,squared=False),3))"
   ]
  },
  {
   "cell_type": "markdown",
   "id": "04967a66-5c54-424b-b9fe-0ac3e4da9395",
   "metadata": {},
   "source": [
    "from r2, we can see that 70% of the house price can be explained by the input."
   ]
  }
 ],
 "metadata": {
  "kernelspec": {
   "display_name": "Python 3 (ipykernel)",
   "language": "python",
   "name": "python3"
  },
  "language_info": {
   "codemirror_mode": {
    "name": "ipython",
    "version": 3
   },
   "file_extension": ".py",
   "mimetype": "text/x-python",
   "name": "python",
   "nbconvert_exporter": "python",
   "pygments_lexer": "ipython3",
   "version": "3.11.2"
  }
 },
 "nbformat": 4,
 "nbformat_minor": 5
}
